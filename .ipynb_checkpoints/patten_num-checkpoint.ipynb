{
 "cells": [
  {
   "cell_type": "code",
   "execution_count": 2,
   "id": "d9f19089",
   "metadata": {},
   "outputs": [],
   "source": [
    "import pandas as pd\n",
    "import dbconfig as dbConf"
   ]
  },
  {
   "cell_type": "code",
   "execution_count": 14,
   "id": "290dba2c",
   "metadata": {},
   "outputs": [],
   "source": [
    "def GetPatten():\n",
    "    # MDM DB 연결\n",
    "    zeroDb = dbConf.DbConfig(\"zero\")\n",
    "    zeroDb.opendb()\n",
    "    #print(\"접속완료\")\n",
    "\n",
    "    sql = (\"\"\"\n",
    "           select a.seq    \n",
    "                , a.r0     \n",
    "                , a.r1     \n",
    "                , a.r2     \n",
    "                , a.r3     \n",
    "                , a.r4     \n",
    "                , ifnull(b.3cnt,0)   3cnt\n",
    "                , ifnull(b.5cnt,0)   5cnt   \n",
    "                , ifnull(b.10cnt,0) 10cnt  \n",
    "                , ifnull(b.30cnt,0) 30cnt  \n",
    "             from temp3 a left outer join in_list_2 b\n",
    "                                       on a.seq = b.stan\n",
    "           \"\"\"\n",
    "           )\n",
    "\n",
    "    # 수집 대상 DB정보 및 테이블, 쿼리 조회\n",
    "    source = zeroDb.select(sql) \n",
    "    zeroDb.closedb()\n",
    "\n",
    "    return pd.DataFrame(source)"
   ]
  },
  {
   "cell_type": "code",
   "execution_count": 28,
   "id": "5e6e64ec",
   "metadata": {},
   "outputs": [],
   "source": [
    "df = GetPatten()"
   ]
  },
  {
   "cell_type": "code",
   "execution_count": 29,
   "id": "92d37ae5",
   "metadata": {},
   "outputs": [],
   "source": [
    "cnt_df = df[['seq','3cnt','5cnt','10cnt','30cnt']]"
   ]
  },
  {
   "cell_type": "code",
   "execution_count": null,
   "id": "a90714db",
   "metadata": {},
   "outputs": [],
   "source": [
    "cnt_df"
   ]
  },
  {
   "cell_type": "code",
   "execution_count": null,
   "id": "7912557d",
   "metadata": {},
   "outputs": [],
   "source": []
  },
  {
   "cell_type": "code",
   "execution_count": null,
   "id": "1536cd34",
   "metadata": {},
   "outputs": [],
   "source": []
  }
 ],
 "metadata": {
  "kernelspec": {
   "display_name": "Python 3",
   "language": "python",
   "name": "python3"
  },
  "language_info": {
   "codemirror_mode": {
    "name": "ipython",
    "version": 3
   },
   "file_extension": ".py",
   "mimetype": "text/x-python",
   "name": "python",
   "nbconvert_exporter": "python",
   "pygments_lexer": "ipython3",
   "version": "3.8.10"
  }
 },
 "nbformat": 4,
 "nbformat_minor": 5
}
