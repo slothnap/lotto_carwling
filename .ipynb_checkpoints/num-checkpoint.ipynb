{
 "cells": [
  {
   "cell_type": "markdown",
   "metadata": {},
   "source": [
    "8, 14, 16, 23, 25, 30\n",
    "3, 13, 15, 19, 39 ,44\n",
    "4, 7 , 15, 19, 29, 30\n",
    "2\t7\t15\t17\t30\t40\n",
    "6\t7\t16\t25\t27\t44\t\n",
    "\n",
    "7\t10\t15\t24\t27\t40\t\n",
    "13\t15\t16\t23\t24\t28\t\n",
    "2\t8\t17\t29\t39\t40\t\n",
    "2\t16\t24\t25\t29\t39\n",
    "13\t15\t16\t25\t33\t37\t"
   ]
  }
 ],
 "metadata": {
  "kernelspec": {
   "display_name": "Python 3",
   "language": "python",
   "name": "python3"
  },
  "language_info": {
   "codemirror_mode": {
    "name": "ipython",
    "version": 3
   },
   "file_extension": ".py",
   "mimetype": "text/x-python",
   "name": "python",
   "nbconvert_exporter": "python",
   "pygments_lexer": "ipython3",
   "version": "3.6.9"
  }
 },
 "nbformat": 4,
 "nbformat_minor": 2
}
