{
 "cells": [
  {
   "cell_type": "code",
   "execution_count": 3,
   "id": "inside-diploma",
   "metadata": {},
   "outputs": [
    {
     "name": "stdout",
     "output_type": "stream",
     "text": [
      "접속완료\n",
      "\n",
      "           select *\n",
      "             from temp\n",
      "            limit 5\n",
      "           \n",
      "[{'seq': 952, 'n1': 4, 'n2': 12, 'n3': 22, 'n4': 24, 'n5': 33, 'n6': 41}, {'seq': 951, 'n1': 2, 'n2': 12, 'n3': 30, 'n4': 31, 'n5': 39, 'n6': 43}, {'seq': 950, 'n1': 3, 'n2': 4, 'n3': 15, 'n4': 22, 'n5': 28, 'n6': 40}, {'seq': 949, 'n1': 14, 'n2': 21, 'n3': 35, 'n4': 36, 'n5': 40, 'n6': 44}, {'seq': 948, 'n1': 13, 'n2': 18, 'n3': 30, 'n4': 31, 'n5': 38, 'n6': 41}]\n"
     ]
    }
   ],
   "source": [
    "import dbconfig as dbConf\n",
    "\n",
    "\n",
    "if __name__ == '__main__':\n",
    "    # MDM DB 연결\n",
    "    zeroDb = dbConf.DbConfig(\"zero\")\n",
    "    zeroDb.opendb()\n",
    "    print(\"접속완료\")\n",
    "\n",
    "    # cast(aes_decrypt(unhex(db.user_pwd), 'jasonmdm' ) as char) as password\\n\"\n",
    "    sql = (\"\"\"\n",
    "           select *\n",
    "             from temp\n",
    "            limit 5\n",
    "           \"\"\"\n",
    "           )\n",
    "\n",
    "    # 수집 대상 DB정보 및 테이블, 쿼리 조회\n",
    "    print(sql)\n",
    "    source = zeroDb.select(sql)\n",
    "    print(source)\n",
    "    \n",
    "    zeroDb.closedb()"
   ]
  },
  {
   "cell_type": "code",
   "execution_count": 2,
   "id": "smoking-squad",
   "metadata": {},
   "outputs": [
    {
     "name": "stdout",
     "output_type": "stream",
     "text": [
      "asd\n"
     ]
    }
   ],
   "source": [
    "print(\"asd\")"
   ]
  }
 ],
 "metadata": {
  "kernelspec": {
   "display_name": "Python 3",
   "language": "python",
   "name": "python3"
  },
  "language_info": {
   "codemirror_mode": {
    "name": "ipython",
    "version": 3
   },
   "file_extension": ".py",
   "mimetype": "text/x-python",
   "name": "python",
   "nbconvert_exporter": "python",
   "pygments_lexer": "ipython3",
   "version": "3.8.5"
  }
 },
 "nbformat": 4,
 "nbformat_minor": 5
}
