{
 "cells": [
  {
   "cell_type": "code",
   "execution_count": 9,
   "id": "bea5d4a5",
   "metadata": {},
   "outputs": [],
   "source": [
    "import pandas as pd\n",
    "import dbconfig as dbConf"
   ]
  },
  {
   "cell_type": "code",
   "execution_count": 44,
   "id": "e7f51eed",
   "metadata": {},
   "outputs": [],
   "source": [
    "def GetPatten():\n",
    "    # MDM DB 연결\n",
    "    zeroDb = dbConf.DbConfig(\"zero\")\n",
    "    zeroDb.opendb()\n",
    "    #print(\"접속완료\")\n",
    "\n",
    "    sql = (\"\"\"\n",
    "           select stan\n",
    "                , 3cnt\n",
    "                , 5cnt\n",
    "                , 10cnt\n",
    "                , 30cnt\n",
    "             from in_list_2\n",
    "            limit 15\n",
    "           \"\"\"\n",
    "           )\n",
    "\n",
    "    # 수집 대상 DB정보 및 테이블, 쿼리 조회\n",
    "    source = zeroDb.select(sql) \n",
    "    zeroDb.closedb()\n",
    "\n",
    "    return pd.DataFrame(source)"
   ]
  },
  {
   "cell_type": "code",
   "execution_count": 97,
   "id": "de2d2ad8",
   "metadata": {},
   "outputs": [
    {
     "name": "stdout",
     "output_type": "stream",
     "text": [
      "974\n",
      "2\n",
      "1\n",
      "1\n",
      "2\n"
     ]
    }
   ],
   "source": [
    "df = GetPatten()\n",
    "stan  = list(range(0,1))\n",
    "cnt3  = list(range(0,1))\n",
    "cnt5  = list(range(0,1))\n",
    "cnt10 = list(range(0,1))\n",
    "cnt30 = list(range(0,1))\n",
    "\n",
    "for df_stan, df_cnt3, df_cnt5, df_cnt10, df_cnt30 in zip(df['stan'], df['3cnt'], df['5cnt'], df['10cnt'], df['30cnt']):\n",
    "    stan.append(int(df_stan))\n",
    "    cnt3.append(int(df_cnt3))\n",
    "    cnt5.append(int(df_cnt5))\n",
    "    cnt10.append(int(df_cnt10))\n",
    "    cnt30.append(int(df_cnt30))\n",
    "\n",
    "print(stan[1])\n",
    "print(cnt3[1])\n",
    "print(cnt5[1])\n",
    "print(cnt10[1])\n",
    "print(cnt30[1])"
   ]
  },
  {
   "cell_type": "code",
   "execution_count": null,
   "id": "7b5b5969",
   "metadata": {},
   "outputs": [],
   "source": []
  }
 ],
 "metadata": {
  "kernelspec": {
   "display_name": "Python 3",
   "language": "python",
   "name": "python3"
  },
  "language_info": {
   "codemirror_mode": {
    "name": "ipython",
    "version": 3
   },
   "file_extension": ".py",
   "mimetype": "text/x-python",
   "name": "python",
   "nbconvert_exporter": "python",
   "pygments_lexer": "ipython3",
   "version": "3.8.10"
  }
 },
 "nbformat": 4,
 "nbformat_minor": 5
}
