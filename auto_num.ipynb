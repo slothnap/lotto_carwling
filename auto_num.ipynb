{
 "cells": [
  {
   "cell_type": "code",
   "execution_count": 9,
   "id": "bea5d4a5",
   "metadata": {},
   "outputs": [],
   "source": [
    "import pandas as pd\n",
    "import dbconfig as dbConf"
   ]
  },
  {
   "cell_type": "code",
   "execution_count": 44,
   "id": "e7f51eed",
   "metadata": {},
   "outputs": [],
   "source": [
    "def GetPatten():\n",
    "    # MDM DB 연결\n",
    "    zeroDb = dbConf.DbConfig(\"zero\")\n",
    "    zeroDb.opendb()\n",
    "    #print(\"접속완료\")\n",
    "\n",
    "    sql = (\"\"\"\n",
    "           select stan\n",
    "                , 3cnt\n",
    "                , 5cnt\n",
    "                , 10cnt\n",
    "                , 30cnt\n",
    "             from in_list_2\n",
    "            limit 15\n",
    "           \"\"\"\n",
    "           )\n",
    "\n",
    "    # 수집 대상 DB정보 및 테이블, 쿼리 조회\n",
    "    source = zeroDb.select(sql) \n",
    "    zeroDb.closedb()\n",
    "\n",
    "    return pd.DataFrame(source)"
   ]
  },
  {
   "cell_type": "code",
   "execution_count": 124,
   "id": "de2d2ad8",
   "metadata": {},
   "outputs": [],
   "source": [
    "df = GetPatten()\n",
    "\n",
    "stan  = list(range(0,1))\n",
    "cnt3  = list(range(0,1))\n",
    "cnt5  = list(range(0,1))\n",
    "cnt10 = list(range(0,1))\n",
    "cnt30 = list(range(0,1))\n",
    "\n",
    "for df_stan, df_cnt3, df_cnt5, df_cnt10, df_cnt30 in zip(df['stan'], df['3cnt'], df['5cnt'], df['10cnt'], df['30cnt']):\n",
    "    stan.append(int(df_stan))\n",
    "    cnt3.append(int(df_cnt3))\n",
    "    cnt5.append(int(df_cnt5))\n",
    "    cnt10.append(int(df_cnt10))\n",
    "    cnt30.append(int(df_cnt30))"
   ]
  },
  {
   "cell_type": "code",
   "execution_count": 151,
   "id": "7b5b5969",
   "metadata": {},
   "outputs": [],
   "source": [
    "def GetNumber(max_val, f1, f2, f3, f4):\n",
    "    # MDM DB 연결\n",
    "    zeroDb = dbConf.DbConfig(\"zero\")\n",
    "    zeroDb.opendb()\n",
    "    sql = (\"\"\"\n",
    "             select sum(case when row_num = 1 then num end) as n1\n",
    "                  , sum(case when row_num = 2 then num end) as n2\n",
    "                  , sum(case when row_num = 3 then num end) as n3\n",
    "                  , sum(case when row_num = 4 then num end) as n4\n",
    "                  , sum(case when row_num = 5 then num end) as n5\n",
    "                  , sum(case when row_num = 6 then num end) as n6\n",
    "                  , (select 3cnt  from in_list_2 where stan = {0}) as cnt3\n",
    "                  , (select 5cnt  from in_list_2 where stan = {0}) as cnt5\n",
    "                  , (select 10cnt from in_list_2 where stan = {0}) as cnt10\n",
    "                  , (select 30cnt from in_list_2 where stan = {0}) as cnt30\n",
    "               from (\n",
    "             select num\n",
    "                  , @rownum:=@rownum+1 as row_num\n",
    "               from (\n",
    "                    select seq, num   \n",
    "                      from (select 3 as seq, num\n",
    "                              from in_list \n",
    "                             where seq = {0} \n",
    "                               and val = 3 \n",
    "                             order by rand() \n",
    "                             limit {1}\n",
    "                           ) as t3\n",
    "                    union all\n",
    "                    select seq, num   \n",
    "                      from (select 5 as seq, num\n",
    "                              from in_list \n",
    "                             where seq = 974 \n",
    "                               and val = 5 \n",
    "                             order by rand() \n",
    "                             limit {2}\n",
    "                           ) as t5 \n",
    "                    union all\n",
    "                    select seq, num   \n",
    "                      from (select 10 as seq, num\n",
    "                              from in_list \n",
    "                             where seq = 974 \n",
    "                               and val = 10\n",
    "                             order by rand() \n",
    "                             limit {3}\n",
    "                           ) as t10\n",
    "                    union all\n",
    "                    select seq, num   \n",
    "                    from (select 30 as seq, num\n",
    "                            from in_list \n",
    "                           where seq = 974 \n",
    "                             and val = 30 \n",
    "                           order by rand() \n",
    "                           limit {4}\n",
    "                         ) as t30\n",
    "                     order by num \n",
    "                 ) as a\n",
    "                 , (SELECT @rownum:=0) TMP\n",
    "                  ) as b \n",
    "             ;\n",
    "           \"\"\".format(max_val, f1, f2, f3, f4)\n",
    "           )\n",
    "\n",
    "    # 수집 대상 DB정보 및 테이블, 쿼리 조회\n",
    "    #print(sql)\n",
    "    source = zeroDb.select(sql) \n",
    "    zeroDb.closedb()\n",
    "\n",
    "    return pd.DataFrame(source)"
   ]
  },
  {
   "cell_type": "code",
   "execution_count": null,
   "id": "8424cbde",
   "metadata": {},
   "outputs": [],
   "source": [
    "data = GetNumber(stan[1], cnt3[1], cnt5[1], cnt10[1], cnt30[1])\n",
    "\n",
    "for i in range(2, 16):\n",
    "    data = data.append(GetNumber(stan[i] , cnt3[i], cnt5[i], cnt10[i], cnt30[i]), ignore_index = True)\n",
    "\n",
    "data"
   ]
  },
  {
   "cell_type": "code",
   "execution_count": null,
   "id": "6cde5b73",
   "metadata": {},
   "outputs": [],
   "source": []
  },
  {
   "cell_type": "code",
   "execution_count": null,
   "id": "a2da74e1",
   "metadata": {},
   "outputs": [],
   "source": []
  },
  {
   "cell_type": "code",
   "execution_count": null,
   "id": "36ddd966",
   "metadata": {},
   "outputs": [],
   "source": []
  },
  {
   "cell_type": "code",
   "execution_count": null,
   "id": "c8e68d21",
   "metadata": {},
   "outputs": [],
   "source": []
  },
  {
   "cell_type": "code",
   "execution_count": null,
   "id": "f6f8bc7a",
   "metadata": {},
   "outputs": [],
   "source": []
  },
  {
   "cell_type": "code",
   "execution_count": null,
   "id": "06d0897d",
   "metadata": {},
   "outputs": [],
   "source": []
  },
  {
   "cell_type": "code",
   "execution_count": null,
   "id": "3ce3cd90",
   "metadata": {},
   "outputs": [],
   "source": []
  },
  {
   "cell_type": "code",
   "execution_count": null,
   "id": "e586e4a8",
   "metadata": {},
   "outputs": [],
   "source": []
  },
  {
   "cell_type": "code",
   "execution_count": null,
   "id": "569a2318",
   "metadata": {},
   "outputs": [],
   "source": []
  },
  {
   "cell_type": "code",
   "execution_count": null,
   "id": "dc2b82c1",
   "metadata": {},
   "outputs": [],
   "source": []
  },
  {
   "cell_type": "code",
   "execution_count": null,
   "id": "abb8fadb",
   "metadata": {},
   "outputs": [],
   "source": []
  },
  {
   "cell_type": "code",
   "execution_count": null,
   "id": "afbaa4a0",
   "metadata": {},
   "outputs": [],
   "source": []
  },
  {
   "cell_type": "code",
   "execution_count": null,
   "id": "99948da2",
   "metadata": {},
   "outputs": [],
   "source": []
  },
  {
   "cell_type": "code",
   "execution_count": null,
   "id": "1cfb27ab",
   "metadata": {},
   "outputs": [],
   "source": []
  }
 ],
 "metadata": {
  "kernelspec": {
   "display_name": "Python 3",
   "language": "python",
   "name": "python3"
  },
  "language_info": {
   "codemirror_mode": {
    "name": "ipython",
    "version": 3
   },
   "file_extension": ".py",
   "mimetype": "text/x-python",
   "name": "python",
   "nbconvert_exporter": "python",
   "pygments_lexer": "ipython3",
   "version": "3.8.10"
  }
 },
 "nbformat": 4,
 "nbformat_minor": 5
}
