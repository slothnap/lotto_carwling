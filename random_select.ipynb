{
 "cells": [
  {
   "cell_type": "code",
   "execution_count": 101,
   "id": "62c6e52b-796c-4729-a836-772f926b9726",
   "metadata": {},
   "outputs": [],
   "source": [
    "import pandas as pd\n",
    "from setting import dbconfig as dbConf"
   ]
  },
  {
   "cell_type": "code",
   "execution_count": 100,
   "id": "d63a9cd4-a7d2-4973-aaf4-7b15b8989456",
   "metadata": {},
   "outputs": [],
   "source": [
    "def GetNum():\n",
    "    # MDM DB 연결\n",
    "    zeroDb = dbConf.DbConfig(\"zero\")\n",
    "    zeroDb.opendb()\n",
    "    #print(\"접속완료\")\n",
    "\n",
    "    sql = (\"\"\"\n",
    "            select distinct num \n",
    "              from (\n",
    "            \t\t(select num from rndm order by rand() limit 1) union all \n",
    "            \t\t(select num from rndm order by rand() limit 1) union all \n",
    "            \t\t(select num from rndm order by rand() limit 1) union all \n",
    "            \t\t(select num from rndm order by rand() limit 1) union all \n",
    "            \t\t(select num from rndm order by rand() limit 1) union all \n",
    "                    (select num from rndm order by rand() limit 1) union all \n",
    "            \t\t(select num from rndm order by rand() limit 1) \n",
    "                   ) a \n",
    "             order by 1 \n",
    "             limit 6\n",
    "           \"\"\"\n",
    "           )\n",
    "\n",
    "    # 수집 대상 DB정보 및 테이블, 쿼리 조회\n",
    "    source = zeroDb.select(sql) \n",
    "    zeroDb.closedb()\n",
    "\n",
    "    return pd.DataFrame(source)"
   ]
  },
  {
   "cell_type": "code",
   "execution_count": 106,
   "id": "22ed8033-59a7-4fe3-9b1b-eef80639a656",
   "metadata": {},
   "outputs": [],
   "source": [
    "test = []\n",
    "test.append(GetNum())"
   ]
  },
  {
   "cell_type": "code",
   "execution_count": 107,
   "id": "92477cd5-5faa-4869-b8a9-4c7f651a6765",
   "metadata": {},
   "outputs": [
    {
     "data": {
      "text/plain": [
       "[   num\n",
       " 0    5\n",
       " 1    8\n",
       " 2   10\n",
       " 3   19\n",
       " 4   20\n",
       " 5   22]"
      ]
     },
     "execution_count": 107,
     "metadata": {},
     "output_type": "execute_result"
    }
   ],
   "source": [
    "test"
   ]
  }
 ],
 "metadata": {
  "kernelspec": {
   "display_name": "Python 3 (ipykernel)",
   "language": "python",
   "name": "python3"
  },
  "language_info": {
   "codemirror_mode": {
    "name": "ipython",
    "version": 3
   },
   "file_extension": ".py",
   "mimetype": "text/x-python",
   "name": "python",
   "nbconvert_exporter": "python",
   "pygments_lexer": "ipython3",
   "version": "3.10.12"
  }
 },
 "nbformat": 4,
 "nbformat_minor": 5
}
