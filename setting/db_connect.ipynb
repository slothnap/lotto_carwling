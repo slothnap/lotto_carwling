{
 "cells": [
  {
   "cell_type": "code",
   "execution_count": 16,
   "id": "4acb914f",
   "metadata": {},
   "outputs": [],
   "source": [
    "import dbconfig as dbConf"
   ]
  },
  {
   "cell_type": "code",
   "execution_count": null,
   "id": "dfeb4680-ab5d-449d-8e9d-ed8090c9cb80",
   "metadata": {},
   "outputs": [],
   "source": [
    "if __name__ == '__main__':\n",
    "    # MDM DB 연결\n",
    "    zeroDb = dbConf.DbConfig(\"zero\")\n",
    "    zeroDb.opendb()\n",
    "    print(\"접속완료\")\n",
    "\n",
    "    # cast(aes_decrypt(unhex(db.user_pwd), 'jasonmdm' ) as char) as password\\n\"\n",
    "    sql = (\"\"\"\n",
    "           select *\n",
    "             from temp\n",
    "            limit 4\n",
    "           \"\"\"\n",
    "           )\n",
    "\n",
    "    # 수집 대상 DB정보 및 테이블, 쿼리 조회\n",
    "    print(sql)\n",
    "    source = zeroDb.select(sql)\n",
    "    print(source)\n",
    "    \n",
    "    zeroDb.closedb()"
   ]
  },
  {
   "cell_type": "code",
   "execution_count": 2,
   "id": "b3ed083a",
   "metadata": {},
   "outputs": [
    {
     "name": "stdout",
     "output_type": "stream",
     "text": [
      "asd\n"
     ]
    }
   ],
   "source": [
    "print(\"asd\")"
   ]
  }
 ],
 "metadata": {
  "kernelspec": {
   "display_name": "Python 3 (ipykernel)",
   "language": "python",
   "name": "python3"
  },
  "language_info": {
   "codemirror_mode": {
    "name": "ipython",
    "version": 3
   },
   "file_extension": ".py",
   "mimetype": "text/x-python",
   "name": "python",
   "nbconvert_exporter": "python",
   "pygments_lexer": "ipython3",
   "version": "3.10.12"
  }
 },
 "nbformat": 4,
 "nbformat_minor": 5
}
