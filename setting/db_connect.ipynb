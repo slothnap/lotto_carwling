{
 "cells": [
  {
   "cell_type": "code",
   "execution_count": 1,
   "metadata": {},
   "outputs": [
    {
     "name": "stdout",
     "output_type": "stream",
     "text": [
      "접속완료\n",
      "\n",
      "           select *\n",
      "             from temp\n",
      "            limit 4\n",
      "           \n",
      "[{'seq': 958, 'n1': 2, 'n2': 9, 'n3': 10, 'n4': 16, 'n5': 35, 'n6': 37}, {'seq': 957, 'n1': 4, 'n2': 15, 'n3': 24, 'n4': 35, 'n5': 36, 'n6': 40}, {'seq': 956, 'n1': 10, 'n2': 11, 'n3': 20, 'n4': 21, 'n5': 25, 'n6': 40}, {'seq': 955, 'n1': 4, 'n2': 9, 'n3': 23, 'n4': 26, 'n5': 29, 'n6': 33}]\n"
     ]
    }
   ],
   "source": [
    "import dbconfig as dbConf\n",
    "\n",
    "\n",
    "if __name__ == '__main__':\n",
    "    # MDM DB 연결\n",
    "    zeroDb = dbConf.DbConfig(\"zero\")\n",
    "    zeroDb.opendb()\n",
    "    print(\"접속완료\")\n",
    "\n",
    "    # cast(aes_decrypt(unhex(db.user_pwd), 'jasonmdm' ) as char) as password\\n\"\n",
    "    sql = (\"\"\"\n",
    "           select *\n",
    "             from temp\n",
    "            limit 4\n",
    "           \"\"\"\n",
    "           )\n",
    "\n",
    "    # 수집 대상 DB정보 및 테이블, 쿼리 조회\n",
    "    print(sql)\n",
    "    source = zeroDb.select(sql)\n",
    "    print(source)\n",
    "    \n",
    "    zeroDb.closedb()"
   ]
  },
  {
   "cell_type": "code",
   "execution_count": 2,
   "metadata": {},
   "outputs": [
    {
     "name": "stdout",
     "output_type": "stream",
     "text": [
      "asd\n"
     ]
    }
   ],
   "source": [
    "print(\"asd\")"
   ]
  }
 ],
 "metadata": {
  "kernelspec": {
   "display_name": "Python 3",
   "language": "python",
   "name": "python3"
  },
  "language_info": {
   "codemirror_mode": {
    "name": "ipython",
    "version": 3
   },
   "file_extension": ".py",
   "mimetype": "text/x-python",
   "name": "python",
   "nbconvert_exporter": "python",
   "pygments_lexer": "ipython3",
   "version": "3.6.9"
  }
 },
 "nbformat": 4,
 "nbformat_minor": 5
}
