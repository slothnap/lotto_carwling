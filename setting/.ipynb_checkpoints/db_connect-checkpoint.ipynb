{
 "cells": [
  {
   "cell_type": "code",
   "execution_count": 1,
   "id": "4acb914f",
   "metadata": {},
   "outputs": [
    {
     "ename": "ModuleNotFoundError",
     "evalue": "No module named 'dbconfig'",
     "output_type": "error",
     "traceback": [
      "\u001b[0;31m---------------------------------------------------------------------------\u001b[0m",
      "\u001b[0;31mModuleNotFoundError\u001b[0m                       Traceback (most recent call last)",
      "\u001b[0;32m/tmp/ipykernel_132517/2015700279.py\u001b[0m in \u001b[0;36m<module>\u001b[0;34m\u001b[0m\n\u001b[0;32m----> 1\u001b[0;31m \u001b[0;32mimport\u001b[0m \u001b[0mdbconfig\u001b[0m \u001b[0;32mas\u001b[0m \u001b[0mdbConf\u001b[0m\u001b[0;34m\u001b[0m\u001b[0;34m\u001b[0m\u001b[0m\n\u001b[0m\u001b[1;32m      2\u001b[0m \u001b[0;34m\u001b[0m\u001b[0m\n\u001b[1;32m      3\u001b[0m \u001b[0;34m\u001b[0m\u001b[0m\n\u001b[1;32m      4\u001b[0m \u001b[0;32mif\u001b[0m \u001b[0m__name__\u001b[0m \u001b[0;34m==\u001b[0m \u001b[0;34m'__main__'\u001b[0m\u001b[0;34m:\u001b[0m\u001b[0;34m\u001b[0m\u001b[0;34m\u001b[0m\u001b[0m\n\u001b[1;32m      5\u001b[0m     \u001b[0;31m# MDM DB 연결\u001b[0m\u001b[0;34m\u001b[0m\u001b[0;34m\u001b[0m\u001b[0m\n",
      "\u001b[0;31mModuleNotFoundError\u001b[0m: No module named 'dbconfig'"
     ]
    }
   ],
   "source": [
    "import dbconfig as dbConf\n",
    "\n",
    "\n",
    "if __name__ == '__main__':\n",
    "    # MDM DB 연결\n",
    "    zeroDb = dbConf.DbConfig(\"zero\")\n",
    "    zeroDb.opendb()\n",
    "    print(\"접속완료\")\n",
    "\n",
    "    # cast(aes_decrypt(unhex(db.user_pwd), 'jasonmdm' ) as char) as password\\n\"\n",
    "    sql = (\"\"\"\n",
    "           select *\n",
    "             from temp\n",
    "            limit 4\n",
    "           \"\"\"\n",
    "           )\n",
    "\n",
    "    # 수집 대상 DB정보 및 테이블, 쿼리 조회\n",
    "    print(sql)\n",
    "    source = zeroDb.select(sql)\n",
    "    print(source)\n",
    "    \n",
    "    zeroDb.closedb()"
   ]
  },
  {
   "cell_type": "code",
   "execution_count": 2,
   "id": "b3ed083a",
   "metadata": {},
   "outputs": [
    {
     "name": "stdout",
     "output_type": "stream",
     "text": [
      "asd\n"
     ]
    }
   ],
   "source": [
    "print(\"asd\")"
   ]
  }
 ],
 "metadata": {
  "kernelspec": {
   "display_name": "Python 3 (ipykernel)",
   "language": "python",
   "name": "python3"
  },
  "language_info": {
   "codemirror_mode": {
    "name": "ipython",
    "version": 3
   },
   "file_extension": ".py",
   "mimetype": "text/x-python",
   "name": "python",
   "nbconvert_exporter": "python",
   "pygments_lexer": "ipython3",
   "version": "3.10.12"
  }
 },
 "nbformat": 4,
 "nbformat_minor": 5
}
