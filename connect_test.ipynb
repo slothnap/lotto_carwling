{
 "cells": [
  {
   "cell_type": "code",
   "execution_count": 6,
   "id": "be82571b-a526-432f-bf47-4ecb421d1d8a",
   "metadata": {},
   "outputs": [],
   "source": [
    "import dbconfig as dbConf"
   ]
  },
  {
   "cell_type": "code",
   "execution_count": 8,
   "id": "0abc9872-7af1-48c8-9e96-6f127bfac1ef",
   "metadata": {},
   "outputs": [
    {
     "name": "stdout",
     "output_type": "stream",
     "text": [
      "접속완료\n",
      "\n",
      "           select *\n",
      "             from lotto\n",
      "           \n",
      "[{'seq': 1, 'n1': 1, 'n2': 1, 'n3': 1, 'n4': 1, 'n5': 1, 'n6': 1, 'reg_dtm': datetime.datetime(2024, 3, 14, 7, 0, 49)}]\n"
     ]
    }
   ],
   "source": [
    "if __name__ == '__main__':\n",
    "    # MDM DB 연결\n",
    "    zeroDb = dbConf.DbConfig(\"zero\")\n",
    "    zeroDb.opendb()\n",
    "    print(\"접속완료\")\n",
    "\n",
    "    # cast(aes_decrypt(unhex(db.user_pwd), 'jasonmdm' ) as char) as password\\n\"\n",
    "    sql = (\"\"\"\n",
    "           select *\n",
    "             from lotto\n",
    "           \"\"\"\n",
    "           )\n",
    "\n",
    "    # 수집 대상 DB정보 및 테이블, 쿼리 조회\n",
    "    print(sql)\n",
    "    source = zeroDb.select(sql)\n",
    "    print(source)\n",
    "    \n",
    "    zeroDb.closedb()"
   ]
  }
 ],
 "metadata": {
  "kernelspec": {
   "display_name": "Python 3 (ipykernel)",
   "language": "python",
   "name": "python3"
  },
  "language_info": {
   "codemirror_mode": {
    "name": "ipython",
    "version": 3
   },
   "file_extension": ".py",
   "mimetype": "text/x-python",
   "name": "python",
   "nbconvert_exporter": "python",
   "pygments_lexer": "ipython3",
   "version": "3.10.12"
  }
 },
 "nbformat": 4,
 "nbformat_minor": 5
}
